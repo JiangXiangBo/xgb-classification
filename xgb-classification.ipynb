{
 "cells": [
  {
   "cell_type": "code",
   "execution_count": 2,
   "metadata": {},
   "outputs": [
    {
     "name": "stdout",
     "output_type": "stream",
     "text": [
      "(393886, 28)\n"
     ]
    },
    {
     "data": {
      "text/html": [
       "<div>\n",
       "<style scoped>\n",
       "    .dataframe tbody tr th:only-of-type {\n",
       "        vertical-align: middle;\n",
       "    }\n",
       "\n",
       "    .dataframe tbody tr th {\n",
       "        vertical-align: top;\n",
       "    }\n",
       "\n",
       "    .dataframe thead th {\n",
       "        text-align: right;\n",
       "    }\n",
       "</style>\n",
       "<table border=\"1\" class=\"dataframe\">\n",
       "  <thead>\n",
       "    <tr style=\"text-align: right;\">\n",
       "      <th></th>\n",
       "      <th>time</th>\n",
       "      <th>wind_speed</th>\n",
       "      <th>generator_speed</th>\n",
       "      <th>power</th>\n",
       "      <th>wind_direction</th>\n",
       "      <th>wind_direction_mean</th>\n",
       "      <th>yaw_position</th>\n",
       "      <th>yaw_speed</th>\n",
       "      <th>pitch1_angle</th>\n",
       "      <th>pitch2_angle</th>\n",
       "      <th>...</th>\n",
       "      <th>acc_y</th>\n",
       "      <th>environment_tmp</th>\n",
       "      <th>int_tmp</th>\n",
       "      <th>pitch1_ng5_tmp</th>\n",
       "      <th>pitch2_ng5_tmp</th>\n",
       "      <th>pitch3_ng5_tmp</th>\n",
       "      <th>pitch1_ng5_DC</th>\n",
       "      <th>pitch2_ng5_DC</th>\n",
       "      <th>pitch3_ng5_DC</th>\n",
       "      <th>group</th>\n",
       "    </tr>\n",
       "  </thead>\n",
       "  <tbody>\n",
       "    <tr>\n",
       "      <th>0</th>\n",
       "      <td>2015-11-01 20:20:16</td>\n",
       "      <td>1.859993</td>\n",
       "      <td>1.223595</td>\n",
       "      <td>2.515790</td>\n",
       "      <td>-2.072739</td>\n",
       "      <td>-2.073627</td>\n",
       "      <td>-0.655343</td>\n",
       "      <td>0.030804</td>\n",
       "      <td>0.555556</td>\n",
       "      <td>0.506667</td>\n",
       "      <td>...</td>\n",
       "      <td>0.061109</td>\n",
       "      <td>-0.403919</td>\n",
       "      <td>0.014918</td>\n",
       "      <td>1.307692</td>\n",
       "      <td>1.123077</td>\n",
       "      <td>0.783077</td>\n",
       "      <td>1.36</td>\n",
       "      <td>0.00</td>\n",
       "      <td>1.56</td>\n",
       "      <td>1</td>\n",
       "    </tr>\n",
       "    <tr>\n",
       "      <th>1</th>\n",
       "      <td>2015-11-01 20:20:23</td>\n",
       "      <td>1.911625</td>\n",
       "      <td>1.293394</td>\n",
       "      <td>2.313551</td>\n",
       "      <td>-2.010591</td>\n",
       "      <td>-1.615140</td>\n",
       "      <td>-0.655343</td>\n",
       "      <td>0.030804</td>\n",
       "      <td>0.195556</td>\n",
       "      <td>0.133333</td>\n",
       "      <td>...</td>\n",
       "      <td>-1.209522</td>\n",
       "      <td>-0.421277</td>\n",
       "      <td>-0.002291</td>\n",
       "      <td>1.307692</td>\n",
       "      <td>1.123077</td>\n",
       "      <td>0.783077</td>\n",
       "      <td>0.44</td>\n",
       "      <td>2.88</td>\n",
       "      <td>-2.60</td>\n",
       "      <td>1</td>\n",
       "    </tr>\n",
       "    <tr>\n",
       "      <th>2</th>\n",
       "      <td>2015-11-01 20:20:30</td>\n",
       "      <td>1.635027</td>\n",
       "      <td>1.280099</td>\n",
       "      <td>2.507799</td>\n",
       "      <td>-2.053750</td>\n",
       "      <td>-0.282742</td>\n",
       "      <td>-0.649566</td>\n",
       "      <td>0.170338</td>\n",
       "      <td>0.964444</td>\n",
       "      <td>0.951111</td>\n",
       "      <td>...</td>\n",
       "      <td>0.061109</td>\n",
       "      <td>-0.421277</td>\n",
       "      <td>-0.002291</td>\n",
       "      <td>1.307692</td>\n",
       "      <td>1.123077</td>\n",
       "      <td>0.783077</td>\n",
       "      <td>1.76</td>\n",
       "      <td>0.60</td>\n",
       "      <td>2.56</td>\n",
       "      <td>1</td>\n",
       "    </tr>\n",
       "    <tr>\n",
       "      <th>3</th>\n",
       "      <td>2015-11-01 20:20:37</td>\n",
       "      <td>1.786234</td>\n",
       "      <td>1.280099</td>\n",
       "      <td>2.349593</td>\n",
       "      <td>-2.007138</td>\n",
       "      <td>-2.234477</td>\n",
       "      <td>-0.655343</td>\n",
       "      <td>-0.004080</td>\n",
       "      <td>0.168889</td>\n",
       "      <td>0.137778</td>\n",
       "      <td>...</td>\n",
       "      <td>0.061109</td>\n",
       "      <td>-0.403919</td>\n",
       "      <td>-0.002291</td>\n",
       "      <td>1.307692</td>\n",
       "      <td>1.123077</td>\n",
       "      <td>0.783077</td>\n",
       "      <td>2.80</td>\n",
       "      <td>-0.48</td>\n",
       "      <td>0.12</td>\n",
       "      <td>1</td>\n",
       "    </tr>\n",
       "    <tr>\n",
       "      <th>4</th>\n",
       "      <td>2015-11-01 20:20:47</td>\n",
       "      <td>1.786234</td>\n",
       "      <td>1.263480</td>\n",
       "      <td>2.321566</td>\n",
       "      <td>-2.264365</td>\n",
       "      <td>-1.428959</td>\n",
       "      <td>-0.637917</td>\n",
       "      <td>0.414524</td>\n",
       "      <td>0.182222</td>\n",
       "      <td>0.168889</td>\n",
       "      <td>...</td>\n",
       "      <td>-1.209522</td>\n",
       "      <td>-0.403919</td>\n",
       "      <td>0.014918</td>\n",
       "      <td>1.307692</td>\n",
       "      <td>1.123077</td>\n",
       "      <td>0.783077</td>\n",
       "      <td>-0.88</td>\n",
       "      <td>1.72</td>\n",
       "      <td>0.92</td>\n",
       "      <td>1</td>\n",
       "    </tr>\n",
       "  </tbody>\n",
       "</table>\n",
       "<p>5 rows × 28 columns</p>\n",
       "</div>"
      ],
      "text/plain": [
       "                 time  wind_speed  generator_speed     power  wind_direction  \\\n",
       "0 2015-11-01 20:20:16    1.859993         1.223595  2.515790       -2.072739   \n",
       "1 2015-11-01 20:20:23    1.911625         1.293394  2.313551       -2.010591   \n",
       "2 2015-11-01 20:20:30    1.635027         1.280099  2.507799       -2.053750   \n",
       "3 2015-11-01 20:20:37    1.786234         1.280099  2.349593       -2.007138   \n",
       "4 2015-11-01 20:20:47    1.786234         1.263480  2.321566       -2.264365   \n",
       "\n",
       "   wind_direction_mean  yaw_position  yaw_speed  pitch1_angle  pitch2_angle  \\\n",
       "0            -2.073627     -0.655343   0.030804      0.555556      0.506667   \n",
       "1            -1.615140     -0.655343   0.030804      0.195556      0.133333   \n",
       "2            -0.282742     -0.649566   0.170338      0.964444      0.951111   \n",
       "3            -2.234477     -0.655343  -0.004080      0.168889      0.137778   \n",
       "4            -1.428959     -0.637917   0.414524      0.182222      0.168889   \n",
       "\n",
       "   ...       acc_y  environment_tmp   int_tmp  pitch1_ng5_tmp  pitch2_ng5_tmp  \\\n",
       "0  ...    0.061109        -0.403919  0.014918        1.307692        1.123077   \n",
       "1  ...   -1.209522        -0.421277 -0.002291        1.307692        1.123077   \n",
       "2  ...    0.061109        -0.421277 -0.002291        1.307692        1.123077   \n",
       "3  ...    0.061109        -0.403919 -0.002291        1.307692        1.123077   \n",
       "4  ...   -1.209522        -0.403919  0.014918        1.307692        1.123077   \n",
       "\n",
       "   pitch3_ng5_tmp  pitch1_ng5_DC  pitch2_ng5_DC  pitch3_ng5_DC  group  \n",
       "0        0.783077           1.36           0.00           1.56      1  \n",
       "1        0.783077           0.44           2.88          -2.60      1  \n",
       "2        0.783077           1.76           0.60           2.56      1  \n",
       "3        0.783077           2.80          -0.48           0.12      1  \n",
       "4        0.783077          -0.88           1.72           0.92      1  \n",
       "\n",
       "[5 rows x 28 columns]"
      ]
     },
     "execution_count": 2,
     "metadata": {},
     "output_type": "execute_result"
    }
   ],
   "source": [
    "import pandas as pd\n",
    "\n",
    "data_df = pd.read_csv('data.csv',parse_dates=[\"time\"])\n",
    "print(data_df.shape)\n",
    "# data_df.info()  # 查看数据信息，有无缺失值\n",
    "data_df.head()"
   ]
  },
  {
   "cell_type": "markdown",
   "metadata": {},
   "source": [
    "数据共三十九万多行，28个特征值\n",
    "data.csv文件是带有所有特征字段的数据集；\n",
    "failure.csv文件是风力发电机叶片故障时间段，时间段包括2个字段：开始时间startTime、结束时间endTime；\n",
    "normal.csv文件是风力发电机叶片正常时间段，时间段包括2个字段：开始时间startTime、结束时间endTime。"
   ]
  },
  {
   "cell_type": "code",
   "execution_count": 3,
   "metadata": {},
   "outputs": [
    {
     "name": "stdout",
     "output_type": "stream",
     "text": [
      "(26, 2)\n"
     ]
    },
    {
     "data": {
      "text/html": [
       "<div>\n",
       "<style scoped>\n",
       "    .dataframe tbody tr th:only-of-type {\n",
       "        vertical-align: middle;\n",
       "    }\n",
       "\n",
       "    .dataframe tbody tr th {\n",
       "        vertical-align: top;\n",
       "    }\n",
       "\n",
       "    .dataframe thead th {\n",
       "        text-align: right;\n",
       "    }\n",
       "</style>\n",
       "<table border=\"1\" class=\"dataframe\">\n",
       "  <thead>\n",
       "    <tr style=\"text-align: right;\">\n",
       "      <th></th>\n",
       "      <th>startTime</th>\n",
       "      <th>endTime</th>\n",
       "    </tr>\n",
       "  </thead>\n",
       "  <tbody>\n",
       "    <tr>\n",
       "      <th>0</th>\n",
       "      <td>2015-11-01 20:20:16</td>\n",
       "      <td>2015-11-03 23:47:32</td>\n",
       "    </tr>\n",
       "    <tr>\n",
       "      <th>1</th>\n",
       "      <td>2015-11-04 14:04:51</td>\n",
       "      <td>2015-11-04 18:26:08</td>\n",
       "    </tr>\n",
       "    <tr>\n",
       "      <th>2</th>\n",
       "      <td>2015-11-05 11:06:59</td>\n",
       "      <td>2015-11-09 02:44:31</td>\n",
       "    </tr>\n",
       "    <tr>\n",
       "      <th>3</th>\n",
       "      <td>2015-11-09 12:30:09</td>\n",
       "      <td>2015-11-09 19:23:32</td>\n",
       "    </tr>\n",
       "    <tr>\n",
       "      <th>4</th>\n",
       "      <td>2015-11-10 00:04:50</td>\n",
       "      <td>2015-11-15 23:03:06</td>\n",
       "    </tr>\n",
       "  </tbody>\n",
       "</table>\n",
       "</div>"
      ],
      "text/plain": [
       "            startTime             endTime\n",
       "0 2015-11-01 20:20:16 2015-11-03 23:47:32\n",
       "1 2015-11-04 14:04:51 2015-11-04 18:26:08\n",
       "2 2015-11-05 11:06:59 2015-11-09 02:44:31\n",
       "3 2015-11-09 12:30:09 2015-11-09 19:23:32\n",
       "4 2015-11-10 00:04:50 2015-11-15 23:03:06"
      ]
     },
     "execution_count": 3,
     "metadata": {},
     "output_type": "execute_result"
    }
   ],
   "source": [
    "# 数据处理，获取正常时间段\n",
    "normalTime_df = pd.read_csv('normal.csv', parse_dates=[\"startTime\", \"endTime\"])\n",
    "print(normalTime_df.shape)\n",
    "# normalTime_df.info()\n",
    "normalTime_df.head()"
   ]
  },
  {
   "cell_type": "code",
   "execution_count": 4,
   "metadata": {},
   "outputs": [
    {
     "name": "stdout",
     "output_type": "stream",
     "text": [
      "(26, 2)\n"
     ]
    },
    {
     "data": {
      "text/html": [
       "<div>\n",
       "<style scoped>\n",
       "    .dataframe tbody tr th:only-of-type {\n",
       "        vertical-align: middle;\n",
       "    }\n",
       "\n",
       "    .dataframe tbody tr th {\n",
       "        vertical-align: top;\n",
       "    }\n",
       "\n",
       "    .dataframe thead th {\n",
       "        text-align: right;\n",
       "    }\n",
       "</style>\n",
       "<table border=\"1\" class=\"dataframe\">\n",
       "  <thead>\n",
       "    <tr style=\"text-align: right;\">\n",
       "      <th></th>\n",
       "      <th>startTime</th>\n",
       "      <th>endTime</th>\n",
       "    </tr>\n",
       "  </thead>\n",
       "  <tbody>\n",
       "    <tr>\n",
       "      <th>0</th>\n",
       "      <td>2015-11-01 20:20:16</td>\n",
       "      <td>2015-11-03 23:47:32</td>\n",
       "    </tr>\n",
       "    <tr>\n",
       "      <th>1</th>\n",
       "      <td>2015-11-04 14:04:51</td>\n",
       "      <td>2015-11-04 18:26:08</td>\n",
       "    </tr>\n",
       "    <tr>\n",
       "      <th>2</th>\n",
       "      <td>2015-11-05 11:06:59</td>\n",
       "      <td>2015-11-09 02:44:31</td>\n",
       "    </tr>\n",
       "    <tr>\n",
       "      <th>3</th>\n",
       "      <td>2015-11-09 12:30:09</td>\n",
       "      <td>2015-11-09 19:23:32</td>\n",
       "    </tr>\n",
       "    <tr>\n",
       "      <th>4</th>\n",
       "      <td>2015-11-10 00:04:50</td>\n",
       "      <td>2015-11-15 23:03:06</td>\n",
       "    </tr>\n",
       "  </tbody>\n",
       "</table>\n",
       "</div>"
      ],
      "text/plain": [
       "            startTime             endTime\n",
       "0 2015-11-01 20:20:16 2015-11-03 23:47:32\n",
       "1 2015-11-04 14:04:51 2015-11-04 18:26:08\n",
       "2 2015-11-05 11:06:59 2015-11-09 02:44:31\n",
       "3 2015-11-09 12:30:09 2015-11-09 19:23:32\n",
       "4 2015-11-10 00:04:50 2015-11-15 23:03:06"
      ]
     },
     "execution_count": 4,
     "metadata": {},
     "output_type": "execute_result"
    }
   ],
   "source": [
    "# 数据处理，获取故障时间段\n",
    "failureTime_df = pd.read_csv('failure.csv', parse_dates=[\"startTime\", \"endTime\"])\n",
    "print(normalTime_df.shape)\n",
    "# normalTime_df.info()\n",
    "normalTime_df.head()"
   ]
  },
  {
   "cell_type": "code",
   "execution_count": 5,
   "metadata": {},
   "outputs": [
    {
     "name": "stdout",
     "output_type": "stream",
     "text": [
      "(4756, 28)\n",
      "(971, 28)\n",
      "(43020, 28)\n",
      "(3383, 28)\n",
      "(39486, 28)\n",
      "(35032, 28)\n",
      "(14016, 28)\n",
      "(2120, 28)\n",
      "(29550, 28)\n",
      "(1321, 28)\n",
      "(3212, 28)\n",
      "(13254, 28)\n",
      "(6513, 28)\n",
      "(681, 28)\n",
      "(12049, 28)\n",
      "(2967, 28)\n",
      "(19126, 28)\n",
      "(561, 28)\n",
      "(132, 28)\n",
      "(2588, 28)\n",
      "(15450, 28)\n",
      "(18678, 28)\n",
      "(5026, 28)\n",
      "(20051, 28)\n",
      "(8584, 28)\n",
      "(47728, 28)\n"
     ]
    },
    {
     "data": {
      "text/plain": [
       "(350255, 28)"
      ]
     },
     "execution_count": 5,
     "metadata": {},
     "output_type": "execute_result"
    }
   ],
   "source": [
    "# 取出预测目标值为正常的样本-根据时间段\n",
    "normal_list = []\n",
    "for index in normalTime_df.index:\n",
    "    startTime = normalTime_df.loc[index].startTime\n",
    "    endTime = normalTime_df.loc[index].endTime\n",
    "    # 从样本中取出在这一段正常时间内所有的样本数据    \n",
    "    part_df = data_df[data_df.time.between(startTime, endTime)]\n",
    "    print(part_df.shape)\n",
    "    normal_list.append(part_df)\n",
    "    \n",
    "# 将正常样本合并为一个新的DataFrame\n",
    "normal_df = pd.concat(normal_list).reset_index(drop=True)\n",
    "normal_df.shape"
   ]
  },
  {
   "cell_type": "code",
   "execution_count": 7,
   "metadata": {},
   "outputs": [
    {
     "name": "stdout",
     "output_type": "stream",
     "text": [
      "(443, 28)\n",
      "(265, 28)\n",
      "(951, 28)\n",
      "(1150, 28)\n",
      "(951, 28)\n",
      "(106, 28)\n",
      "(352, 28)\n",
      "(951, 28)\n",
      "(951, 28)\n",
      "(1286, 28)\n",
      "(951, 28)\n",
      "(1254, 28)\n",
      "(148, 28)\n",
      "(951, 28)\n",
      "(616, 28)\n",
      "(951, 28)\n",
      "(951, 28)\n",
      "(797, 28)\n",
      "(951, 28)\n",
      "(951, 28)\n",
      "(1244, 28)\n",
      "(909, 28)\n",
      "(546, 28)\n",
      "(951, 28)\n",
      "(592, 28)\n",
      "(870, 28)\n",
      "(951, 28)\n",
      "(951, 28)\n",
      "(951, 28)\n"
     ]
    },
    {
     "data": {
      "text/plain": [
       "(23892, 28)"
      ]
     },
     "execution_count": 7,
     "metadata": {},
     "output_type": "execute_result"
    }
   ],
   "source": [
    "# 取出预测目标值为故障的样本-根据时间段\n",
    "failure_list = []\n",
    "for index in failureTime_df.index:\n",
    "    startTime = failureTime_df.loc[index].startTime\n",
    "    endTime = failureTime_df.loc[index].endTime\n",
    "    # 从样本中取出在这一段故障时间内所有的样本数据    \n",
    "    part_df = data_df[data_df.time.between(startTime, endTime)]\n",
    "    print(part_df.shape)\n",
    "    failure_list.append(part_df)\n",
    "    \n",
    "# 将故障样本合并为一个新的DataFrame\n",
    "failure_df = pd.concat(failure_list).reset_index(drop=True)\n",
    "failure_df.shape"
   ]
  },
  {
   "cell_type": "code",
   "execution_count": 8,
   "metadata": {},
   "outputs": [
    {
     "data": {
      "text/html": [
       "<div>\n",
       "<style scoped>\n",
       "    .dataframe tbody tr th:only-of-type {\n",
       "        vertical-align: middle;\n",
       "    }\n",
       "\n",
       "    .dataframe tbody tr th {\n",
       "        vertical-align: top;\n",
       "    }\n",
       "\n",
       "    .dataframe thead th {\n",
       "        text-align: right;\n",
       "    }\n",
       "</style>\n",
       "<table border=\"1\" class=\"dataframe\">\n",
       "  <thead>\n",
       "    <tr style=\"text-align: right;\">\n",
       "      <th></th>\n",
       "      <th>number</th>\n",
       "      <th>ratio</th>\n",
       "    </tr>\n",
       "  </thead>\n",
       "  <tbody>\n",
       "    <tr>\n",
       "      <th>normal</th>\n",
       "      <td>350255</td>\n",
       "      <td>0.889229</td>\n",
       "    </tr>\n",
       "    <tr>\n",
       "      <th>failure</th>\n",
       "      <td>23892</td>\n",
       "      <td>0.060657</td>\n",
       "    </tr>\n",
       "    <tr>\n",
       "      <th>invalid</th>\n",
       "      <td>19739</td>\n",
       "      <td>0.050113</td>\n",
       "    </tr>\n",
       "  </tbody>\n",
       "</table>\n",
       "</div>"
      ],
      "text/plain": [
       "         number     ratio\n",
       "normal   350255  0.889229\n",
       "failure   23892  0.060657\n",
       "invalid   19739  0.050113"
      ]
     },
     "execution_count": 8,
     "metadata": {},
     "output_type": "execute_result"
    }
   ],
   "source": [
    "# 统计正常，故障，无效样本占比\n",
    "stat_df = pd.DataFrame(\n",
    "    { 'number' : [normal_df.shape[0], failure_df.shape[0], data_df.shape[0]-normal_df.shape[0]-failure_df.shape[0]]}, \n",
    "      index = ['normal', 'failure', 'invalid'])\n",
    "stat_df['ratio'] = stat_df['number'] / stat_df['number'].sum()\n",
    "stat_df"
   ]
  },
  {
   "cell_type": "code",
   "execution_count": 9,
   "metadata": {},
   "outputs": [
    {
     "data": {
      "text/plain": [
       "(47784, 28)"
      ]
     },
     "execution_count": 9,
     "metadata": {},
     "output_type": "execute_result"
    }
   ],
   "source": [
    "# 下采样：\n",
    "# 因为预测目标值为正常的样本远远多于预测目标值为故障的样本，所以对预测目标值为正常的样本做下采样。\n",
    "# 下采样指减少样本或者减少特征，具体方法是选取一部分正常样本，数量为故障样本的2倍。\n",
    "import random\n",
    "normalpart_df = normal_df.loc[random.sample(list(normal_df.index), k = failure_df.shape[0]*2)]\n",
    "normalpart_df.shape"
   ]
  },
  {
   "cell_type": "code",
   "execution_count": 10,
   "metadata": {},
   "outputs": [
    {
     "name": "stdout",
     "output_type": "stream",
     "text": [
      "(71676, 27)\n",
      "(71676,)\n"
     ]
    }
   ],
   "source": [
    "# 形成特征矩阵和预测目标值-把抽取出来的部分正常样本和故障样本和为一个样本\n",
    "import numpy as np\n",
    "feature_df = pd.concat([normalpart_df, failure_df]).reset_index(drop=True)\n",
    "x= feature_df.drop('time', axis=1).values   # 丢掉时间列（无用）\n",
    "print(x.shape)\n",
    "y = np.append(np.ones(len(normalpart_df)), np.zeros(len(failure_df)))\n",
    "print(y.shape)"
   ]
  },
  {
   "cell_type": "code",
   "execution_count": 12,
   "metadata": {},
   "outputs": [],
   "source": [
    "# 保存数据\n",
    "import pickle\n",
    "with open('x.pickle', 'wb') as file:\n",
    "    pickle.dump(x, file)\n",
    "    \n",
    "with open('y.pickle', 'wb') as file:\n",
    "    pickle.dump(y, file)"
   ]
  },
  {
   "cell_type": "code",
   "execution_count": 13,
   "metadata": {},
   "outputs": [],
   "source": [
    "# 4 模型训练\n",
    "# 4.1、加载处理好的数据\n",
    "with open('x.pickle', 'rb') as file:\n",
    "    x = pickle.load(file)\n",
    "\n",
    "with open('y.pickle', 'rb') as file:\n",
    "    y = pickle.load(file)"
   ]
  },
  {
   "cell_type": "code",
   "execution_count": 14,
   "metadata": {},
   "outputs": [
    {
     "name": "stdout",
     "output_type": "stream",
     "text": [
      "[1.     1.     1.     0.9999 1.    ]\n",
      "1.0\n"
     ]
    }
   ],
   "source": [
    "# 4.2、随机森林模型\n",
    "from sklearn.ensemble import RandomForestClassifier\n",
    "from sklearn.model_selection import ShuffleSplit, cross_val_score\n",
    "\n",
    "rfc_model = RandomForestClassifier(n_jobs=-1)  # 参数n_jobs设置为-1时，会最大化利用电脑的多线程性能\n",
    "cv_split = ShuffleSplit(n_splits=5)    # 参数n_splits设置为5，表示会做5折交叉验证\n",
    "score_nadrry = cross_val_score(rfc_model, x, y, cv=cv_split)   # 返回结果的数据类型为ndarray对象\n",
    "print(score_nadrry.round(4))   # ndarray对象的round方法可以使其中的数保留指定位数\n",
    "print(score_nadrry.mean().round(4))"
   ]
  },
  {
   "cell_type": "code",
   "execution_count": 15,
   "metadata": {},
   "outputs": [
    {
     "name": "stdout",
     "output_type": "stream",
     "text": [
      "[0.9794 0.9809 0.9827 0.9856 0.9809]\n",
      "0.9819\n"
     ]
    }
   ],
   "source": [
    "# 4.3、xgboost模型\n",
    "from xgboost import XGBClassifier\n",
    "import warnings\n",
    "\n",
    "warnings.filterwarnings('ignore')  # 忽略警告信息\n",
    "cv_split = ShuffleSplit(n_splits=5)\n",
    "xgb_model = XGBClassifier(nthread=4)  # nthread设置为4时，利用4线程做模型训练\n",
    "score_nadrry = cross_val_score(xgb_model, x, y, cv=cv_split)   \n",
    "print(score_nadrry.round(4))\n",
    "print(score_nadrry.mean().round(4))"
   ]
  },
  {
   "cell_type": "code",
   "execution_count": 16,
   "metadata": {},
   "outputs": [
    {
     "data": {
      "text/plain": [
       "0.9812"
      ]
     },
     "execution_count": 16,
     "metadata": {},
     "output_type": "execute_result"
    }
   ],
   "source": [
    "# 5 模型评估\n",
    "# 5.1、模型得分\n",
    "from sklearn.model_selection import train_test_split\n",
    "x_train, x_test, y_train, y_test = train_test_split(x, y, test_size=0.2)\n",
    "xgb_model = XGBClassifier(nthread=8)\n",
    "xgb_model.fit(x_train, y_train)\n",
    "xgb_model.score(x_test, y_test).round(4)"
   ]
  },
  {
   "cell_type": "code",
   "execution_count": 26,
   "metadata": {},
   "outputs": [
    {
     "data": {
      "text/html": [
       "<div>\n",
       "<style scoped>\n",
       "    .dataframe tbody tr th:only-of-type {\n",
       "        vertical-align: middle;\n",
       "    }\n",
       "\n",
       "    .dataframe tbody tr th {\n",
       "        vertical-align: top;\n",
       "    }\n",
       "\n",
       "    .dataframe thead th {\n",
       "        text-align: right;\n",
       "    }\n",
       "</style>\n",
       "<table border=\"1\" class=\"dataframe\">\n",
       "  <thead>\n",
       "    <tr style=\"text-align: right;\">\n",
       "      <th></th>\n",
       "      <th>故障</th>\n",
       "      <th>正常</th>\n",
       "    </tr>\n",
       "  </thead>\n",
       "  <tbody>\n",
       "    <tr>\n",
       "      <th>故障</th>\n",
       "      <td>4601</td>\n",
       "      <td>106</td>\n",
       "    </tr>\n",
       "    <tr>\n",
       "      <th>正常</th>\n",
       "      <td>164</td>\n",
       "      <td>9465</td>\n",
       "    </tr>\n",
       "  </tbody>\n",
       "</table>\n",
       "</div>"
      ],
      "text/plain": [
       "      故障    正常\n",
       "故障  4601   106\n",
       "正常   164  9465"
      ]
     },
     "execution_count": 26,
     "metadata": {},
     "output_type": "execute_result"
    }
   ],
   "source": [
    "# 5.2、混淆矩阵\n",
    "from sklearn.metrics import confusion_matrix\n",
    "y_predict = xgb_model.predict(x_test)\n",
    "lables = ['故障', '正常']\n",
    "pd.DataFrame(confusion_matrix(y_test, y_predict),columns=lables, index=lables)"
   ]
  },
  {
   "cell_type": "code",
   "execution_count": 27,
   "metadata": {},
   "outputs": [
    {
     "data": {
      "text/html": [
       "<div>\n",
       "<style scoped>\n",
       "    .dataframe tbody tr th:only-of-type {\n",
       "        vertical-align: middle;\n",
       "    }\n",
       "\n",
       "    .dataframe tbody tr th {\n",
       "        vertical-align: top;\n",
       "    }\n",
       "\n",
       "    .dataframe thead th {\n",
       "        text-align: right;\n",
       "    }\n",
       "</style>\n",
       "<table border=\"1\" class=\"dataframe\">\n",
       "  <thead>\n",
       "    <tr style=\"text-align: right;\">\n",
       "      <th></th>\n",
       "      <th>Label</th>\n",
       "      <th>Precision</th>\n",
       "      <th>Recall</th>\n",
       "      <th>F1</th>\n",
       "      <th>Support</th>\n",
       "    </tr>\n",
       "  </thead>\n",
       "  <tbody>\n",
       "    <tr>\n",
       "      <th>0</th>\n",
       "      <td>故障</td>\n",
       "      <td>0.965582</td>\n",
       "      <td>0.977480</td>\n",
       "      <td>0.971495</td>\n",
       "      <td>4707</td>\n",
       "    </tr>\n",
       "    <tr>\n",
       "      <th>1</th>\n",
       "      <td>正常</td>\n",
       "      <td>0.988925</td>\n",
       "      <td>0.982968</td>\n",
       "      <td>0.985938</td>\n",
       "      <td>9629</td>\n",
       "    </tr>\n",
       "    <tr>\n",
       "      <th>999</th>\n",
       "      <td>总体</td>\n",
       "      <td>0.981261</td>\n",
       "      <td>0.981166</td>\n",
       "      <td>0.981196</td>\n",
       "      <td>14336</td>\n",
       "    </tr>\n",
       "  </tbody>\n",
       "</table>\n",
       "</div>"
      ],
      "text/plain": [
       "    Label  Precision    Recall        F1  Support\n",
       "0      故障   0.965582  0.977480  0.971495     4707\n",
       "1      正常   0.988925  0.982968  0.985938     9629\n",
       "999    总体   0.981261  0.981166  0.981196    14336"
      ]
     },
     "execution_count": 27,
     "metadata": {},
     "output_type": "execute_result"
    }
   ],
   "source": [
    "# 5.3、 precision、recall、f1-score、support报告表\n",
    "from sklearn.metrics import precision_recall_fscore_support\n",
    "\n",
    "def eval_model(y_true, y_pred, labels):\n",
    "    # 计算每个分类的Precision, Recall, f1, support\n",
    "    p, r, f1, s = precision_recall_fscore_support(y_true, y_pred)\n",
    "    # 计算总体的平均Precision, Recall, f1, support\n",
    "    tot_p = np.average(p, weights=s)\n",
    "    tot_r = np.average(r, weights=s)\n",
    "    tot_f1 = np.average(f1, weights=s)\n",
    "    tot_s = np.sum(s)\n",
    "    res1 = pd.DataFrame({\n",
    "        u'Label': labels,\n",
    "        u'Precision': p,\n",
    "        u'Recall': r,\n",
    "        u'F1': f1,\n",
    "        u'Support': s\n",
    "    })\n",
    "    res2 = pd.DataFrame({\n",
    "        u'Label': ['总体'],\n",
    "        u'Precision': [tot_p],\n",
    "        u'Recall': [tot_r],\n",
    "        u'F1': [tot_f1],\n",
    "        u'Support': [tot_s]\n",
    "    })\n",
    "    res2.index = [999]\n",
    "    res = pd.concat([res1, res2])\n",
    "    return res[['Label', 'Precision', 'Recall', 'F1', 'Support']]\n",
    "\n",
    "eval_model(y_test, y_predict, lables)"
   ]
  },
  {
   "cell_type": "code",
   "execution_count": 56,
   "metadata": {},
   "outputs": [
    {
     "data": {
      "image/png": "[encoded data removed]",
      "text/plain": [
       "<matplotlib.figure.Figure at 0x30b5c3c8>"
      ]
     },
     "metadata": {},
     "output_type": "display_data"
    }
   ],
   "source": [
    "# 5.4、绘制ROC曲线\n",
    "from sklearn.metrics import roc_curve\n",
    "import matplotlib.pyplot as plt\n",
    "\n",
    "y_predict_probability = xgb_model.predict_proba(x)\n",
    "false_predict,true_predict, threshold = roc_curve(y, y_predict_probability[:,1])\n",
    "plt.plot([0,1], [0,1],'k--')\n",
    "plt.plot(false_predict, true_predict,label='xgboost')\n",
    "plt.legend()\n",
    "plt.title(\"ROC curve\")\n",
    "plt.xlabel(\"False positive rate\")\n",
    "plt.ylabel(\"True positive rate\")\n",
    "plt.show()"
   ]
  },
  {
   "cell_type": "code",
   "execution_count": 55,
   "metadata": {},
   "outputs": [],
   "source": [
    "# 5.5、保存模型\n",
    "with open(\"xgb_model.pickle\", \"wb\") as file:\n",
    "    pickle.dump(xgb_model, file)"
   ]
  },
  {
   "cell_type": "code",
   "execution_count": 17,
   "metadata": {},
   "outputs": [],
   "source": [
    "# 6、模型测试\n",
    "# 6.1、模型加载\n",
    "with open(\"xgb_model.pickle\", \"rb\") as file:\n",
    "    xgb_model = pickle.load(file)"
   ]
  },
  {
   "cell_type": "code",
   "execution_count": 19,
   "metadata": {},
   "outputs": [
    {
     "name": "stdout",
     "output_type": "stream",
     "text": [
      "(190494, 29)\n"
     ]
    },
    {
     "data": {
      "text/html": [
       "<div>\n",
       "<style scoped>\n",
       "    .dataframe tbody tr th:only-of-type {\n",
       "        vertical-align: middle;\n",
       "    }\n",
       "\n",
       "    .dataframe tbody tr th {\n",
       "        vertical-align: top;\n",
       "    }\n",
       "\n",
       "    .dataframe thead th {\n",
       "        text-align: right;\n",
       "    }\n",
       "</style>\n",
       "<table border=\"1\" class=\"dataframe\">\n",
       "  <thead>\n",
       "    <tr style=\"text-align: right;\">\n",
       "      <th></th>\n",
       "      <th>time</th>\n",
       "      <th>wind_speed</th>\n",
       "      <th>generator_speed</th>\n",
       "      <th>power</th>\n",
       "      <th>wind_direction</th>\n",
       "      <th>wind_direction_mean</th>\n",
       "      <th>yaw_position</th>\n",
       "      <th>yaw_speed</th>\n",
       "      <th>pitch1_angle</th>\n",
       "      <th>pitch2_angle</th>\n",
       "      <th>...</th>\n",
       "      <th>environment_tmp</th>\n",
       "      <th>int_tmp</th>\n",
       "      <th>pitch1_ng5_tmp</th>\n",
       "      <th>pitch2_ng5_tmp</th>\n",
       "      <th>pitch3_ng5_tmp</th>\n",
       "      <th>pitch1_ng5_DC</th>\n",
       "      <th>pitch2_ng5_DC</th>\n",
       "      <th>pitch3_ng5_DC</th>\n",
       "      <th>group</th>\n",
       "      <th>clf</th>\n",
       "    </tr>\n",
       "  </thead>\n",
       "  <tbody>\n",
       "    <tr>\n",
       "      <th>0</th>\n",
       "      <td>2015-11-01 17:33:56</td>\n",
       "      <td>2.671346</td>\n",
       "      <td>1.316661</td>\n",
       "      <td>2.571868</td>\n",
       "      <td>-0.786604</td>\n",
       "      <td>-0.985671</td>\n",
       "      <td>0.235157</td>\n",
       "      <td>-0.143615</td>\n",
       "      <td>4.653333</td>\n",
       "      <td>4.640000</td>\n",
       "      <td>...</td>\n",
       "      <td>0.33777</td>\n",
       "      <td>0.686099</td>\n",
       "      <td>0.769231</td>\n",
       "      <td>1.000000</td>\n",
       "      <td>0.923077</td>\n",
       "      <td>0.08</td>\n",
       "      <td>-0.80</td>\n",
       "      <td>0.60</td>\n",
       "      <td>1</td>\n",
       "      <td>1</td>\n",
       "    </tr>\n",
       "    <tr>\n",
       "      <th>1</th>\n",
       "      <td>2015-11-01 17:34:03</td>\n",
       "      <td>3.058582</td>\n",
       "      <td>1.293394</td>\n",
       "      <td>2.537818</td>\n",
       "      <td>-0.924712</td>\n",
       "      <td>-0.712099</td>\n",
       "      <td>0.235157</td>\n",
       "      <td>-0.108731</td>\n",
       "      <td>6.395556</td>\n",
       "      <td>6.417778</td>\n",
       "      <td>...</td>\n",
       "      <td>0.33777</td>\n",
       "      <td>0.686099</td>\n",
       "      <td>0.769231</td>\n",
       "      <td>1.000000</td>\n",
       "      <td>0.923077</td>\n",
       "      <td>0.68</td>\n",
       "      <td>1.04</td>\n",
       "      <td>0.76</td>\n",
       "      <td>1</td>\n",
       "      <td>1</td>\n",
       "    </tr>\n",
       "    <tr>\n",
       "      <th>2</th>\n",
       "      <td>2015-11-01 17:34:10</td>\n",
       "      <td>3.279860</td>\n",
       "      <td>1.187033</td>\n",
       "      <td>2.551855</td>\n",
       "      <td>-0.962692</td>\n",
       "      <td>-1.054064</td>\n",
       "      <td>0.235157</td>\n",
       "      <td>-0.108731</td>\n",
       "      <td>5.417778</td>\n",
       "      <td>5.435556</td>\n",
       "      <td>...</td>\n",
       "      <td>0.33777</td>\n",
       "      <td>0.686099</td>\n",
       "      <td>0.769231</td>\n",
       "      <td>1.013846</td>\n",
       "      <td>0.923077</td>\n",
       "      <td>1.00</td>\n",
       "      <td>1.44</td>\n",
       "      <td>0.88</td>\n",
       "      <td>1</td>\n",
       "      <td>1</td>\n",
       "    </tr>\n",
       "  </tbody>\n",
       "</table>\n",
       "<p>3 rows × 29 columns</p>\n",
       "</div>"
      ],
      "text/plain": [
       "                  time  wind_speed  generator_speed     power  wind_direction  \\\n",
       "0  2015-11-01 17:33:56    2.671346         1.316661  2.571868       -0.786604   \n",
       "1  2015-11-01 17:34:03    3.058582         1.293394  2.537818       -0.924712   \n",
       "2  2015-11-01 17:34:10    3.279860         1.187033  2.551855       -0.962692   \n",
       "\n",
       "   wind_direction_mean  yaw_position  yaw_speed  pitch1_angle  pitch2_angle  \\\n",
       "0            -0.985671      0.235157  -0.143615      4.653333      4.640000   \n",
       "1            -0.712099      0.235157  -0.108731      6.395556      6.417778   \n",
       "2            -1.054064      0.235157  -0.108731      5.417778      5.435556   \n",
       "\n",
       "  ...   environment_tmp   int_tmp  pitch1_ng5_tmp  pitch2_ng5_tmp  \\\n",
       "0 ...           0.33777  0.686099        0.769231        1.000000   \n",
       "1 ...           0.33777  0.686099        0.769231        1.000000   \n",
       "2 ...           0.33777  0.686099        0.769231        1.013846   \n",
       "\n",
       "   pitch3_ng5_tmp  pitch1_ng5_DC  pitch2_ng5_DC  pitch3_ng5_DC  group  clf  \n",
       "0        0.923077           0.08          -0.80           0.60      1    1  \n",
       "1        0.923077           0.68           1.04           0.76      1    1  \n",
       "2        0.923077           1.00           1.44           0.88      1    1  \n",
       "\n",
       "[3 rows x 29 columns]"
      ]
     },
     "execution_count": 19,
     "metadata": {},
     "output_type": "execute_result"
    }
   ],
   "source": [
    "# 6.2、测试数据准备\n",
    "test_df = pd.read_csv(\"data_test.csv\", index_col=0)\n",
    "print(test_df.shape)\n",
    "test_df.head(3)"
   ]
  },
  {
   "cell_type": "code",
   "execution_count": 21,
   "metadata": {},
   "outputs": [
    {
     "data": {
      "text/plain": [
       "1    168929\n",
       "2     10927\n",
       "0     10638\n",
       "Name: clf, dtype: int64"
      ]
     },
     "execution_count": 21,
     "metadata": {},
     "output_type": "execute_result"
    }
   ],
   "source": [
    "# 预测目标值是clf字段，查看clf字段的统计计数情况\n",
    "# 数字0代表故障的样本，1代表正常，2代表无效样本\n",
    "test_df[\"clf\"].value_counts()"
   ]
  },
  {
   "cell_type": "code",
   "execution_count": 23,
   "metadata": {},
   "outputs": [
    {
     "name": "stdout",
     "output_type": "stream",
     "text": [
      "(179567, 27)\n",
      "(179567,)\n"
     ]
    }
   ],
   "source": [
    "y = test_df[\"clf\"].values\n",
    "x = test_df.drop([\"time\", \"clf\"], axis=1).values\n",
    "# 去除无效样本\n",
    "exam_x= x[y<2]\n",
    "exam_y = y[y<2]\n",
    "print(exam_x.shape)\n",
    "print(exam_y.shape)"
   ]
  },
  {
   "cell_type": "code",
   "execution_count": 28,
   "metadata": {},
   "outputs": [
    {
     "data": {
      "text/html": [
       "<div>\n",
       "<style scoped>\n",
       "    .dataframe tbody tr th:only-of-type {\n",
       "        vertical-align: middle;\n",
       "    }\n",
       "\n",
       "    .dataframe tbody tr th {\n",
       "        vertical-align: top;\n",
       "    }\n",
       "\n",
       "    .dataframe thead th {\n",
       "        text-align: right;\n",
       "    }\n",
       "</style>\n",
       "<table border=\"1\" class=\"dataframe\">\n",
       "  <thead>\n",
       "    <tr style=\"text-align: right;\">\n",
       "      <th></th>\n",
       "      <th>Label</th>\n",
       "      <th>Precision</th>\n",
       "      <th>Recall</th>\n",
       "      <th>F1</th>\n",
       "      <th>Support</th>\n",
       "    </tr>\n",
       "  </thead>\n",
       "  <tbody>\n",
       "    <tr>\n",
       "      <th>0</th>\n",
       "      <td>故障</td>\n",
       "      <td>0.405864</td>\n",
       "      <td>0.247227</td>\n",
       "      <td>0.307279</td>\n",
       "      <td>10638</td>\n",
       "    </tr>\n",
       "    <tr>\n",
       "      <th>1</th>\n",
       "      <td>正常</td>\n",
       "      <td>0.953734</td>\n",
       "      <td>0.977209</td>\n",
       "      <td>0.965329</td>\n",
       "      <td>168929</td>\n",
       "    </tr>\n",
       "    <tr>\n",
       "      <th>999</th>\n",
       "      <td>总体</td>\n",
       "      <td>0.921277</td>\n",
       "      <td>0.933963</td>\n",
       "      <td>0.926345</td>\n",
       "      <td>179567</td>\n",
       "    </tr>\n",
       "  </tbody>\n",
       "</table>\n",
       "</div>"
      ],
      "text/plain": [
       "    Label  Precision    Recall        F1  Support\n",
       "0      故障   0.405864  0.247227  0.307279    10638\n",
       "1      正常   0.953734  0.977209  0.965329   168929\n",
       "999    总体   0.921277  0.933963  0.926345   179567"
      ]
     },
     "execution_count": 28,
     "metadata": {},
     "output_type": "execute_result"
    }
   ],
   "source": [
    "# 6.3 绘制precision、recall、f1-score、support报告表\n",
    "def eval_model(y_true, y_pred, labels):\n",
    "    # 计算每个分类的Precision, Recall, f1, support\n",
    "    p, r, f1, s = precision_recall_fscore_support(y_true, y_pred)\n",
    "    # 计算总体的平均Precision, Recall, f1, support\n",
    "    tot_p = np.average(p, weights=s)\n",
    "    tot_r = np.average(r, weights=s)\n",
    "    tot_f1 = np.average(f1, weights=s)\n",
    "    tot_s = np.sum(s)\n",
    "    res1 = pd.DataFrame({\n",
    "        u'Label': labels,\n",
    "        u'Precision': p,\n",
    "        u'Recall': r,\n",
    "        u'F1': f1,\n",
    "        u'Support': s\n",
    "    })\n",
    "    res2 = pd.DataFrame({\n",
    "        u'Label': ['总体'],\n",
    "        u'Precision': [tot_p],\n",
    "        u'Recall': [tot_r],\n",
    "        u'F1': [tot_f1],\n",
    "        u'Support': [tot_s]\n",
    "    })\n",
    "    res2.index = [999]\n",
    "    res = pd.concat([res1, res2])\n",
    "    return res[['Label', 'Precision', 'Recall', 'F1', 'Support']]\n",
    "\n",
    "predict_exam_y = xgb_model.predict(exam_x)\n",
    "labels = ['故障', '正常']\n",
    "eval_model(exam_y, predict_exam_y, labels)"
   ]
  },
  {
   "cell_type": "markdown",
   "metadata": {},
   "source": [
    "总结：\n",
    "1.模型在原数据集经过交叉验证取得了优秀的评估指标；\n",
    "2.模型在正常样本的预测中取得很高的查准率和查全率；\n",
    "3.模型在故障样本的预测中取得很低的查准率和查全率；\n",
    "4.模型在新数据集的测试效果差，说明模型泛化能力差，想要提高模型的泛化能力，则需要提取出更多数据中的有效特征。"
   ]
  }
 ],
 "metadata": {
  "kernelspec": {
   "display_name": "Python 3",
   "language": "python",
   "name": "python3"
  },
  "language_info": {
   "codemirror_mode": {
    "name": "ipython",
    "version": 3
   },
   "file_extension": ".py",
   "mimetype": "text/x-python",
   "name": "python",
   "nbconvert_exporter": "python",
   "pygments_lexer": "ipython3",
   "version": "3.6.4"
  }
 },
 "nbformat": 4,
 "nbformat_minor": 2
}
